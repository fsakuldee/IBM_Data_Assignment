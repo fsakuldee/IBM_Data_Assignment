{
  "metadata": {
    "kernelspec": {
      "name": "python",
      "display_name": "Python (Pyodide)",
      "language": "python"
    },
    "language_info": {
      "codemirror_mode": {
        "name": "python",
        "version": 3
      },
      "file_extension": ".py",
      "mimetype": "text/x-python",
      "name": "python",
      "nbconvert_exporter": "python",
      "pygments_lexer": "ipython3",
      "version": "3.8"
    }
  },
  "nbformat_minor": 4,
  "nbformat": 4,
  "cells": [
    {
      "cell_type": "markdown",
      "source": "<p style=\"text-align:center\">\n    <a href=\"https://skills.network/?utm_medium=Exinfluencer&utm_source=Exinfluencer&utm_content=000026UJ&utm_term=10006555&utm_id=NA-SkillsNetwork-Channel-SkillsNetworkCoursesIBMDeveloperSkillsNetworkST0151ENSkillsNetwork20531532-2022-01-01\" target=\"_blank\">\n    <img src=\"https://cf-courses-data.s3.us.cloud-object-storage.appdomain.cloud/assets/logos/SN_web_lightmode.png\" width=\"200\" alt=\"Skills Network Logo\"  />\n    </a>\n</p>\n\n",
      "metadata": {}
    },
    {
      "cell_type": "markdown",
      "source": "#### Import the required libraries we need for the lab.\n",
      "metadata": {}
    },
    {
      "cell_type": "code",
      "source": "import piplite\nawait piplite.install(['numpy'],['pandas'])\nawait piplite.install(['seaborn'])",
      "metadata": {
        "trusted": true
      },
      "outputs": [],
      "execution_count": null
    },
    {
      "cell_type": "code",
      "source": "import pandas as pd\nimport seaborn as sns\nimport matplotlib.pyplot as pyplot\nimport scipy.stats\nimport statsmodels.api as sm\nfrom statsmodels.formula.api import ols",
      "metadata": {
        "trusted": true
      },
      "outputs": [],
      "execution_count": null
    },
    {
      "cell_type": "markdown",
      "source": "#### Read the dataset in the csv file from the URL\n",
      "metadata": {}
    },
    {
      "cell_type": "code",
      "source": "from js import fetch\nimport io\n\nURL = 'https://cf-courses-data.s3.us.cloud-object-storage.appdomain.cloud/IBMDeveloperSkillsNetwork-ST0151EN-SkillsNetwork/labs/boston_housing.csv'\nresp = await fetch(URL)\nboston_url = io.BytesIO((await resp.arrayBuffer()).to_py())",
      "metadata": {
        "trusted": true
      },
      "outputs": [],
      "execution_count": null
    },
    {
      "cell_type": "code",
      "source": "boston_df=pd.read_csv(boston_url)",
      "metadata": {
        "trusted": true
      },
      "outputs": [],
      "execution_count": null
    },
    {
      "cell_type": "markdown",
      "source": "#### Add your code below following the instructions given in the course to complete the peer graded assignment\n",
      "metadata": {}
    },
    {
      "cell_type": "markdown",
      "source": "## Task 1: Become familiar with the dataset\nThe following describes the dataset variables:\n\n·      CRIM - per capita crime rate by town\n\n·      ZN - proportion of residential land zoned for lots over 25,000 sq.ft.\n\n·      INDUS - proportion of non-retail business acres per town.\n\n·      CHAS - Charles River dummy variable (1 if tract bounds river; 0 otherwise)\n\n·      NOX - nitric oxides concentration (parts per 10 million)\n\n·      RM - average number of rooms per dwelling\n\n·      AGE - proportion of owner-occupied units built prior to 1940\n\n·      DIS - weighted distances to five Boston employment centres\n\n·      RAD - index of accessibility to radial highways\n\n·      TAX - full-value property-tax rate per $10,000\n\n·      PTRATIO - pupil-teacher ratio by town\n\n·      LSTAT - % lower status of the population\n\n·      MEDV - Median value of owner-occupied homes in $1000's",
      "metadata": {}
    },
    {
      "cell_type": "code",
      "source": "## The table below displays the first few rows of the data. This provides the structure of the data.\nboston_df.head()",
      "metadata": {
        "trusted": true
      },
      "outputs": [],
      "execution_count": null
    },
    {
      "cell_type": "code",
      "source": "## The table below displays the statisital overview of the data.\nboston_df.describe()",
      "metadata": {
        "trusted": true
      },
      "outputs": [],
      "execution_count": null
    },
    {
      "cell_type": "markdown",
      "source": "## Task 2: Generate Descriptive Statistics and Visualizations",
      "metadata": {}
    },
    {
      "cell_type": "code",
      "source": "pyplot.figure(figsize=(8,5))\n\nsns.boxplot(x=boston_df.MEDV)\npyplot.title(\"Median Value of Owner-Occupied Homes\")\npyplot.xlabel(\"Value in $1000's\")\n\n\nax = sns.boxplot(x=\"MEDV\", data=boston_df)\npyplot.show()",
      "metadata": {
        "trusted": true
      },
      "outputs": [],
      "execution_count": null
    },
    {
      "cell_type": "markdown",
      "source": "The distrubution of the median values of owner-occupied homes is not symmetric, suggesting that the majority of houses are in the low to middle range.",
      "metadata": {}
    },
    {
      "cell_type": "code",
      "source": "CHAS_count = boston_df.groupby('CHAS')[['Unnamed: 0']].count().reset_index()\n\nsns.set(style=\"whitegrid\")\nax = sns.barplot(x=\"CHAS\", y=\"Unnamed: 0\", data=CHAS_count)\npyplot.title(\"Numbers of Houses Bounded by the Charles River or Not\")\npyplot.xlabel(\"Variables (1 if tract bounds river; 0 otherwise)\")\npyplot.ylabel(\"Counts\")\n\npyplot.show()",
      "metadata": {
        "trusted": true
      },
      "outputs": [],
      "execution_count": null
    },
    {
      "cell_type": "markdown",
      "source": "It is clear from the figure that the numbers of houses bounded by Charles river is small compared to those not bounded.",
      "metadata": {}
    },
    {
      "cell_type": "code",
      "source": "boston_df.loc[(boston_df['AGE'] <= 35), 'age_group'] = '<=35 years'\nboston_df.loc[(boston_df['AGE'] > 35) & (boston_df['AGE'] < 70), 'age_group'] = '35--70 years'\nboston_df.loc[(boston_df['AGE'] >= 70), 'age_group'] = '>=70 years'\n\nboston_df.age_group.reset_index()\n\nax = sns.boxplot(x=\"age_group\", y=\"MEDV\", data=boston_df)\npyplot.title(\"Median Value of Owner-Occupied Homes Grouped by Ages Grpups\")\npyplot.xlabel(\"Age Groups\")\npyplot.ylabel(\"Value in $1000's\")\n\npyplot.show()",
      "metadata": {
        "trusted": true
      },
      "outputs": [],
      "execution_count": null
    },
    {
      "cell_type": "code",
      "source": "ax = sns.scatterplot(y='NOX', x='INDUS', data=boston_df)\n\npyplot.title(\"Relationship between Nitric Oxide Concentrations and\\n The Proportion of Non-Retail Business Acres Per Town\")\npyplot.ylabel(\"Nitric Oxide Concentrations\")\npyplot.xlabel(\"The Proportion of\\n Non-Retail Business Acres Per Town\")\n\npyplot.show()",
      "metadata": {
        "trusted": true
      },
      "outputs": [],
      "execution_count": null
    },
    {
      "cell_type": "markdown",
      "source": "The ilustration suggests the positive correlation between between Nitric oxide concentrations and the proportion of non-retail business acres per town, i.e. as the proportion of non-retail business acres per town increase, Nitric oxide concentrations also increase.",
      "metadata": {}
    },
    {
      "cell_type": "code",
      "source": "sns.displot(boston_df['PTRATIO'], bins=10, kde = False)\n\npyplot.title(\"Numbers of Houses by Pupil to Teacher Ratio\")\npyplot.ylabel(\"Counts\")\npyplot.xlabel(\"Pupil to Teacher Ratio\")\n\npyplot.show()",
      "metadata": {
        "trusted": true
      },
      "outputs": [],
      "execution_count": null
    },
    {
      "cell_type": "markdown",
      "source": "The number houses with pupil to teacher ratio at about 21:1 is the highest (mode).",
      "metadata": {}
    },
    {
      "cell_type": "markdown",
      "source": "## Task 3: Use the appropriate tests to answer the questions provided.",
      "metadata": {}
    },
    {
      "cell_type": "markdown",
      "source": "#### Is there a significant difference in median value of houses bounded by the Charles river or not? (T-test for independent samples)",
      "metadata": {}
    },
    {
      "cell_type": "markdown",
      "source": "State the hypothesis\n\n*   $H\\_0: µ\\_1 = µ\\_2$ (\"there is no difference in median value of houses bounded by the Charles river or not\")\n*   $H\\_1: µ\\_1 ≠ µ\\_2$ (\"there is a difference in median value of houses bounded by the Charles river or not\")",
      "metadata": {}
    },
    {
      "cell_type": "code",
      "source": "scipy.stats.ttest_ind(boston_df[boston_df['CHAS'] == 0]['MEDV'],\n                      boston_df[boston_df['CHAS'] == 1]['MEDV'], equal_var = True)",
      "metadata": {
        "trusted": true
      },
      "outputs": [],
      "execution_count": null
    },
    {
      "cell_type": "markdown",
      "source": "**Conclusion:** Since the p-value is less than alpha value 0.05, we reject the null hypothesis as there is enough proof that there is a statistical difference  in median value of houses bounded by the Charles river or not.",
      "metadata": {}
    },
    {
      "cell_type": "markdown",
      "source": "#### Is there a difference in Median values of houses (MEDV) for each proportion of owner occupied units built prior to 1940 (AGE)? (ANOVA)*",
      "metadata": {}
    },
    {
      "cell_type": "markdown",
      "source": "State the hypothesis\n\n*   $H\\_0: µ\\_1 = µ\\_2 = µ\\_3$ (the three population means are equal)\n*   $H\\_1:$ At least one of the means differ",
      "metadata": {}
    },
    {
      "cell_type": "code",
      "source": "medv_below_35 = boston_df[boston_df['age_group'] == '<=35 years']['MEDV']\nmedv_35 = boston_df[boston_df['age_group'] == '35--70 years']['MEDV']\nmedv_70_above = boston_df[boston_df['age_group'] == '>=70 years']['MEDV']\n\nf_statistic, p_value = scipy.stats.f_oneway(medv_below_35, medv_35, medv_70_above)\nprint(\"F_Statistic: {0}, P-Value: {1}\".format(f_statistic,p_value))",
      "metadata": {
        "trusted": true
      },
      "outputs": [],
      "execution_count": null
    },
    {
      "cell_type": "markdown",
      "source": "**Conclusion:** Since the p-value is less than alpha value 0.05, we reject the null hypothesis as there is enough proof that there is a statistical difference in Median values of houses (MEDV) for each proportion of owner occupied units built prior to 1940",
      "metadata": {}
    },
    {
      "cell_type": "markdown",
      "source": "#### Can we conclude that there is no relationship between Nitric oxide concentrations and proportion of non-retail business acres per town? (Pearson Correlation)",
      "metadata": {}
    },
    {
      "cell_type": "markdown",
      "source": "State the hypothesis:\n\n*   $H\\_0:$ Nitric oxide concentrations is not correlated with proportion of non-retail business acres per town\n*   $H\\_1:$ Nitric oxide concentrations is correlated with proportion of non-retail business acres per town",
      "metadata": {}
    },
    {
      "cell_type": "code",
      "source": "scipy.stats.pearsonr(boston_df['NOX'], boston_df['INDUS'])",
      "metadata": {
        "trusted": true
      },
      "outputs": [],
      "execution_count": null
    },
    {
      "cell_type": "markdown",
      "source": "**Conclusion:** Since the p-value  < 0.05, we reject the Null hypothesis and conclude that there exists a relationship between Nitric oxide concentrations and proportion of non-retail business acres per town.",
      "metadata": {}
    },
    {
      "cell_type": "markdown",
      "source": "#### What is the impact of an additional weighted distance to the five Boston employment centres on the median value of owner occupied homes? (Regression analysis)",
      "metadata": {}
    },
    {
      "cell_type": "code",
      "source": "X = boston_df['DIS']\ny = boston_df['MEDV']\nX = sm.add_constant(X) \n\nmodel = sm.OLS(y, X).fit()\npredictions = model.predict(X)\n\nmodel.summary()",
      "metadata": {
        "trusted": true
      },
      "outputs": [],
      "execution_count": null
    },
    {
      "cell_type": "markdown",
      "source": "**Conclusion:** p-value < 0.05 there is evidence of correlation between an additional weighted distance to the five Boston employment centres on the median value of owner occupied homes.",
      "metadata": {}
    }
  ]
}